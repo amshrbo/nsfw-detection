{
 "cells": [
  {
   "cell_type": "markdown",
   "id": "b0159fad",
   "metadata": {},
   "source": [
    "# Data Augmentation using Keras "
   ]
  },
  {
   "cell_type": "code",
   "execution_count": 15,
   "id": "5b832e0b",
   "metadata": {},
   "outputs": [],
   "source": [
    "import tensorflow as tf\n",
    "from tensorflow import keras\n",
    "from tensorflow.keras.preprocessing.image import ImageDataGenerator\n",
    "import numpy as np\n",
    "from PIL import Image\n",
    "import os"
   ]
  },
  {
   "cell_type": "code",
   "execution_count": 3,
   "id": "ed69bf99",
   "metadata": {},
   "outputs": [],
   "source": [
    "violence_path = '/home/shrbo/NSFWDetection/NSFWData/violence'\n",
    "drugs_path = '/home/shrbo/NSFWDetection/NSFWData/drugs'\n",
    "natural_path = '/home/shrbo/NSFWDetection/NSFWData/natural'"
   ]
  },
  {
   "cell_type": "markdown",
   "id": "ab106a27",
   "metadata": {},
   "source": [
    "## Resizing all images in the data set "
   ]
  },
  {
   "cell_type": "code",
   "execution_count": 4,
   "id": "825c84dc",
   "metadata": {},
   "outputs": [],
   "source": [
    "img_sze = (224, 244)"
   ]
  },
  {
   "cell_type": "markdown",
   "id": "0da6af26",
   "metadata": {},
   "source": [
    "### Overwriting the Imgs by (224, 224) size"
   ]
  },
  {
   "cell_type": "code",
   "execution_count": 5,
   "id": "1ad8ac70",
   "metadata": {},
   "outputs": [],
   "source": [
    "def resizing_imgs(folder_path):\n",
    "    for img_name in os.listdir(folder_path):\n",
    "        img_path = os.path.join(folder_path, img_name)\n",
    "\n",
    "        img = Image.open(img_path).convert('RGB')\n",
    "        img = img.resize(img_sze)\n",
    "\n",
    "        img.save(img_path)"
   ]
  },
  {
   "cell_type": "markdown",
   "id": "83f2cff3",
   "metadata": {},
   "source": [
    "**Resizing violence Imgs**"
   ]
  },
  {
   "cell_type": "code",
   "execution_count": 6,
   "id": "89ba3046",
   "metadata": {},
   "outputs": [],
   "source": [
    "resizing_imgs(violence_path)"
   ]
  },
  {
   "cell_type": "markdown",
   "id": "630088a2",
   "metadata": {},
   "source": [
    "**Resizing drugs Imgs**"
   ]
  },
  {
   "cell_type": "code",
   "execution_count": 7,
   "id": "0c60d27c",
   "metadata": {},
   "outputs": [],
   "source": [
    "resizing_imgs(drugs_path)"
   ]
  },
  {
   "cell_type": "markdown",
   "id": "88b1efd5",
   "metadata": {},
   "source": [
    "**Resizing natural imgs**"
   ]
  },
  {
   "cell_type": "code",
   "execution_count": 8,
   "id": "d7f7f30e",
   "metadata": {},
   "outputs": [],
   "source": [
    "resizing_imgs(natural_path)"
   ]
  },
  {
   "cell_type": "markdown",
   "id": "8a499a59",
   "metadata": {},
   "source": [
    "***All of My data now have the same size that is requried by the pretrained model and by the ImageDataGenerator***"
   ]
  },
  {
   "cell_type": "markdown",
   "id": "6c6d7124",
   "metadata": {},
   "source": [
    "## Augmenting the data of the violence and drugs classes"
   ]
  },
  {
   "cell_type": "markdown",
   "id": "22de2c6c",
   "metadata": {},
   "source": [
    "### Preparing the data for ImageDataGenerator class"
   ]
  },
  {
   "cell_type": "markdown",
   "id": "1bf0d3ac",
   "metadata": {},
   "source": [
    "***Some important Notes***\n",
    "1. ImgDataGenerator takes 4d array `(1, any_w, any_h, 3)` \n",
    "  > So we need to add this first dimension to our images\n",
    "1. We should preprocess our whole vioelnce dataset\n",
    "1. adding it a giant list then converting it a numpy array"
   ]
  },
  {
   "cell_type": "code",
   "execution_count": 16,
   "id": "ace92fa1",
   "metadata": {},
   "outputs": [],
   "source": [
    "def preparing_data(path):\n",
    "    img_data = []\n",
    "    \n",
    "    #looping over every Img resize and convert it to an array and append it to list\n",
    "    for img_name in os.listdir(path):\n",
    "        img_path = os.path.join(path, img_name)\n",
    "\n",
    "        img = Image.open(img_path).convert('RGB')\n",
    "        img = img.resize(img_sze)\n",
    "        img = np.array(img)\n",
    "        \n",
    "        img_data.append(img)\n",
    "    \n",
    "    return np.array(img_data)"
   ]
  },
  {
   "cell_type": "code",
   "execution_count": 17,
   "id": "94bc8f2c",
   "metadata": {},
   "outputs": [],
   "source": [
    "violence_data = preparing_data(violence_path)"
   ]
  },
  {
   "cell_type": "code",
   "execution_count": 19,
   "id": "df96dcd7",
   "metadata": {},
   "outputs": [],
   "source": [
    "drugs_data = preparing_data(drugs_path)"
   ]
  },
  {
   "cell_type": "code",
   "execution_count": 20,
   "id": "bdba6c93",
   "metadata": {},
   "outputs": [
    {
     "name": "stdout",
     "output_type": "stream",
     "text": [
      "(630, 244, 224, 3)\n",
      "(1003, 244, 224, 3)\n"
     ]
    }
   ],
   "source": [
    "print(violence_data.shape)\n",
    "print(drugs_data.shape)"
   ]
  },
  {
   "cell_type": "code",
   "execution_count": 21,
   "id": "668c8769",
   "metadata": {},
   "outputs": [],
   "source": [
    "os.mkdir(\"./violence_augmented\")\n",
    "os.mkdir(\"./drugs_augmented\")"
   ]
  },
  {
   "cell_type": "code",
   "execution_count": 25,
   "id": "7e4fa302",
   "metadata": {},
   "outputs": [],
   "source": [
    "violence_augmented_path = '/home/shrbo/NSFWDetection/violence_augmented'\n",
    "drugs_augmented_path = '/home/shrbo/NSFWDetection/drugs_augmented'"
   ]
  },
  {
   "cell_type": "markdown",
   "id": "1b9e1537",
   "metadata": {},
   "source": [
    "### Initializing the ImageDataGenerator classs"
   ]
  },
  {
   "cell_type": "code",
   "execution_count": 26,
   "id": "7bf2ab0b",
   "metadata": {},
   "outputs": [],
   "source": [
    "img_gen = ImageDataGenerator(\n",
    "        rotation_range=40,\n",
    "        width_shift_range=0.2,\n",
    "        height_shift_range=0.2,\n",
    "        rescale=1./255,\n",
    "        shear_range=0.2,\n",
    "        zoom_range=0.2,\n",
    "        horizontal_flip=True,\n",
    "        fill_mode='nearest')"
   ]
  },
  {
   "cell_type": "code",
   "execution_count": 30,
   "id": "50b866a0",
   "metadata": {},
   "outputs": [],
   "source": [
    "def generating_data(data, path_2_save, prefix):\n",
    "    \"\"\"\n",
    "    PARAMS::\n",
    "    data: a numpy array that contains all your images preprocessed \n",
    "    path_2_save: folder destination that you will save the data on\n",
    "    prefix: the prefix name of the generated files \n",
    "    \n",
    "    RETURNS::\n",
    "    it saves the files on to the destination path\n",
    "    \"\"\"\n",
    "    count = 0\n",
    "    for batch in img_gen.flow(data, batch_size=24,\n",
    "                              save_to_dir=path_2_save,\n",
    "                              save_prefix=prefix, save_format='jpeg'):\n",
    "\n",
    "        if count > 100:\n",
    "            break      \n",
    "\n",
    "        count += 1"
   ]
  },
  {
   "cell_type": "code",
   "execution_count": 31,
   "id": "39d1ef57",
   "metadata": {},
   "outputs": [],
   "source": [
    "generating_data(drugs_data, drugs_augmented_path, 'd_gen')"
   ]
  },
  {
   "cell_type": "markdown",
   "id": "f173b4ea",
   "metadata": {},
   "source": [
    "***The data have been generated successfully***"
   ]
  }
 ],
 "metadata": {
  "kernelspec": {
   "display_name": "Python 3",
   "language": "python",
   "name": "python3"
  },
  "language_info": {
   "codemirror_mode": {
    "name": "ipython",
    "version": 3
   },
   "file_extension": ".py",
   "mimetype": "text/x-python",
   "name": "python",
   "nbconvert_exporter": "python",
   "pygments_lexer": "ipython3",
   "version": "3.7.3"
  }
 },
 "nbformat": 4,
 "nbformat_minor": 5
}
